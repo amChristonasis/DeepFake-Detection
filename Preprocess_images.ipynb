{
 "cells": [
  {
   "cell_type": "code",
   "execution_count": null,
   "metadata": {},
   "outputs": [],
   "source": [
    "#!pip install cv2\n",
    "#!pip install opencv-python\n",
    "#!pip install mtcnn\n",
    "#!pip install tensorflow\n",
    "#!pip install tensorflow==2.0.0-beta0\n",
    "!pip install -U numpy"
   ]
  },
  {
   "cell_type": "code",
   "execution_count": null,
   "metadata": {
    "colab": {
     "base_uri": "https://localhost:8080/",
     "height": 124
    },
    "colab_type": "code",
    "executionInfo": {
     "elapsed": 20114,
     "status": "ok",
     "timestamp": 1560255307068,
     "user": {
      "displayName": "João Pereira",
      "photoUrl": "https://lh4.googleusercontent.com/-8L7C7HomDA0/AAAAAAAAAAI/AAAAAAAARE0/27Bj4DT3OJ4/s64/photo.jpg",
      "userId": "16783397452349622468"
     },
     "user_tz": -120
    },
    "id": "UiaM9t1zdkhi",
    "outputId": "5a574c34-3c41-4a94-9fd8-2327ba1cef9a"
   },
   "outputs": [],
   "source": [
    "import cv2\n",
    "import mtcnn\n",
    "from mtcnn.mtcnn import MTCNN\n",
    "import numpy as np\n",
    "import pandas as pd\n",
    "import math\n",
    "import os\n",
    "import sys"
   ]
  },
  {
   "cell_type": "code",
   "execution_count": null,
   "metadata": {},
   "outputs": [],
   "source": [
    "detector = MTCNN()"
   ]
  },
  {
   "cell_type": "code",
   "execution_count": null,
   "metadata": {},
   "outputs": [],
   "source": [
    "#Function for preprocessing\n",
    "def find_face(v,dest):\n",
    "    n_frames = 11\n",
    "    video = cv2.VideoCapture(v)\n",
    "    #video = cv2.VideoCapture(v)\n",
    "    #print(video.isOpened())\n",
    "    #print(v)\n",
    "    #print(os.getcwd())\n",
    "    framerate = video.get(5)\n",
    "    #print(framerate)\n",
    "    count=1\n",
    "    frameindex=1\n",
    "    try:\n",
    "        while (video.isOpened()):\n",
    "            #if(count==2):\n",
    "             #   break\n",
    "            frameId = video.get(1)\n",
    "            #print()\n",
    "            success, image = video.read()\n",
    "            if( image is not None ):\n",
    "                result = detector.detect_faces(image)\n",
    "                if(len(result)>1):\n",
    "                    max_area = 0\n",
    "                    max_idx = -1\n",
    "                    idx=0\n",
    "                    for i in range(len(result)):\n",
    "                        bounding_box = result[i]['box']\n",
    "                        area=abs((bounding_box[1]-(bounding_box[1] + bounding_box[3]))*(bounding_box[0]-(bounding_box[0]+bounding_box[2])))\n",
    "                        #print(area)\n",
    "                        if area>max_area:\n",
    "                            max_area=area\n",
    "                            max_idx=i\n",
    "                       #idx=idx+1\n",
    "                    #print(max_area)\n",
    "                    #print(max_idx)\n",
    "                    bounding_box = result[max_idx]['box']\n",
    "                    crop_img = image[(bounding_box[1]-28):(bounding_box[1]-28 + bounding_box[3]+56), (bounding_box[0]-28):(bounding_box[0]-28+bounding_box[2]+56)]\n",
    "\n",
    "                else:\n",
    "                    bounding_box = result[0]['box']\n",
    "                    keypoints = result[0]['keypoints']\n",
    "                ##Creating rectangle\n",
    "                    cv2.rectangle(image,\n",
    "                              (bounding_box[0]-25, bounding_box[1]-25),\n",
    "                              (bounding_box[0]-25+bounding_box[2]+50, bounding_box[1]-25 + bounding_box[3]+50),\n",
    "                              (0,155,255),2)\n",
    "                ##Cropping the images\n",
    "\n",
    "                    crop_img = image[(bounding_box[1]-28):(bounding_box[1]-28 + bounding_box[3]+56), (bounding_box[0]-28):(bounding_box[0]-28+bounding_box[2]+56)]\n",
    "\n",
    "\n",
    "                # print(crop_img.size())\n",
    "                crop_img = cv2.resize(crop_img, (152,179), interpolation = cv2.INTER_AREA)\n",
    "            if (success != True):\n",
    "                print(\"Break1\")\n",
    "                break\n",
    "            if (frameId % math.floor(framerate) == 0):\n",
    "            #filename = \"/content/drive/My Drive/Hack_4_me/Preprocessed_Images/\" + \"image_\" + str(int(frameId / math.floor(framerate))+1) + \".jpg\"\n",
    "                filename = dest +\"\\\\image_\" + str(int(frameId / math.floor(framerate))+1) + \".jpg\"\n",
    "                #filename = \"C:\\\\Users\\\\20180249\\\\PDEng\\\\Self\\\\Hackathon_June\\\\Preprocessed_Images\\\\Original\"+\"\\\\image_\" + str(int(frameId / math.floor(framerate))+1) + \".jpg\"\n",
    "\n",
    "                cv2.imwrite(filename,crop_img)\n",
    "                frameindex=frameindex+1\n",
    "            count=count+1\n",
    "            if frameindex==n_frames:\n",
    "                print(\"Break2\")\n",
    "                break\n",
    "        return True\n",
    "    except:\n",
    "        return False"
   ]
  },
  {
   "cell_type": "code",
   "execution_count": null,
   "metadata": {},
   "outputs": [],
   "source": [
    "def process_folders():\n",
    "    base_dir=\"C:\\\\Users\\\\20190040\\\\Documents\\\\Hackathon\\\\Hack4peace\\\\\"\n",
    "    folders=[\"Deepfakes\"]\n",
    "    dest_dir=\"C:\\\\Users\\\\20190040\\\\Documents\\\\Hackathon\\\\Hack4peace\\\\Preprocessed_Images\\\\\"\n",
    "    is_face=False\n",
    "    count = 0\n",
    "    i=0\n",
    "    for f in folders:\n",
    "        os.chdir(base_dir+f)\n",
    "        videos=os.listdir()\n",
    "        videos=[l for l in videos if l.split(\".\")[-1]=='mp4']\n",
    "        #print(videos)\n",
    "        for v in videos:\n",
    "            video_path=base_dir+f+\"\\\\\"+v\n",
    "            destn_path=dest_dir+f+\"\\\\\"+v.replace(\".mp4\",\"\")\n",
    "            if not os.path.isdir(destn_path):\n",
    "                os.mkdir(destn_path)\n",
    "            print('processing video  ',v, 'count: ', count)\n",
    "            if i >= 201:\n",
    "                is_face= find_face(v,destn_path)\n",
    "            print(v,' has face ',is_face)\n",
    "            if(is_face):\n",
    "                count+=1\n",
    "            i+=1"
   ]
  },
  {
   "cell_type": "code",
   "execution_count": null,
   "metadata": {},
   "outputs": [],
   "source": [
    "process_folders()"
   ]
  },
  {
   "cell_type": "code",
   "execution_count": null,
   "metadata": {},
   "outputs": [],
   "source": [
    "count"
   ]
  }
 ],
 "metadata": {
  "accelerator": "TPU",
  "colab": {
   "collapsed_sections": [],
   "name": "Preprocess_images.ipynb",
   "provenance": [],
   "version": "0.3.2"
  },
  "kernelspec": {
   "display_name": "Python 3",
   "language": "python",
   "name": "python3"
  },
  "language_info": {
   "codemirror_mode": {
    "name": "ipython",
    "version": 3
   },
   "file_extension": ".py",
   "mimetype": "text/x-python",
   "name": "python",
   "nbconvert_exporter": "python",
   "pygments_lexer": "ipython3",
   "version": "3.7.1"
  }
 },
 "nbformat": 4,
 "nbformat_minor": 1
}
